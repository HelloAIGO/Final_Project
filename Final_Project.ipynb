{
 "cells": [
  {
   "attachments": {},
   "cell_type": "markdown",
   "metadata": {},
   "source": [
    "# **차이코퍼레이션 / B2B 마케팅**\n",
    "### **주제 : 연령별 매출 데이터를 활용한 마케팅 방향성 제시**"
   ]
  },
  {
   "cell_type": "code",
   "execution_count": 106,
   "metadata": {},
   "outputs": [],
   "source": [
    "import os \n",
    "import sys \n",
    "import pandas as pd\n",
    "import numpy as np\n",
    "import matplotlib.pyplot as plt\n",
    "import seaborn as sns\n",
    "import plotly.express as px\n",
    "from matplotlib import font_manager\n",
    "from datetime import datetime, timedelta\n",
    "import csv"
   ]
  },
  {
   "attachments": {},
   "cell_type": "markdown",
   "metadata": {},
   "source": [
    "## 데이터 전처리\n",
    "### 데이터 추출 및 데이터"
   ]
  },
  {
   "cell_type": "code",
   "execution_count": 107,
   "metadata": {},
   "outputs": [],
   "source": [
    "# 차이코퍼레이션 결제 데이터 csv 받아오기\n",
    "Customer_data = pd.read_csv('차이코퍼레이션 결제 데이터(BA_assesment).csv')\n"
   ]
  },
  {
   "cell_type": "code",
   "execution_count": 108,
   "metadata": {},
   "outputs": [
    {
     "data": {
      "text/html": [
       "<div>\n",
       "<style scoped>\n",
       "    .dataframe tbody tr th:only-of-type {\n",
       "        vertical-align: middle;\n",
       "    }\n",
       "\n",
       "    .dataframe tbody tr th {\n",
       "        vertical-align: top;\n",
       "    }\n",
       "\n",
       "    .dataframe thead th {\n",
       "        text-align: right;\n",
       "    }\n",
       "</style>\n",
       "<table border=\"1\" class=\"dataframe\">\n",
       "  <thead>\n",
       "    <tr style=\"text-align: right;\">\n",
       "      <th></th>\n",
       "      <th>customer_id</th>\n",
       "      <th>created_at</th>\n",
       "      <th>pre_discount</th>\n",
       "      <th>post_discount</th>\n",
       "      <th>cashback_amount</th>\n",
       "      <th>discount_amount</th>\n",
       "      <th>total_promotion</th>\n",
       "      <th>push_permission</th>\n",
       "      <th>gender</th>\n",
       "      <th>is_foreigner</th>\n",
       "      <th>birthday</th>\n",
       "      <th>sign_up_date</th>\n",
       "      <th>merchant_id</th>\n",
       "    </tr>\n",
       "  </thead>\n",
       "  <tbody>\n",
       "    <tr>\n",
       "      <th>0</th>\n",
       "      <td>207317</td>\n",
       "      <td>2020-03-22 10:27:52.498</td>\n",
       "      <td>36236</td>\n",
       "      <td>36236</td>\n",
       "      <td>1087</td>\n",
       "      <td>0</td>\n",
       "      <td>1087</td>\n",
       "      <td>True</td>\n",
       "      <td>female</td>\n",
       "      <td>False</td>\n",
       "      <td>1957-11-05</td>\n",
       "      <td>2019-11-30 16:48:19.339</td>\n",
       "      <td>9</td>\n",
       "    </tr>\n",
       "    <tr>\n",
       "      <th>1</th>\n",
       "      <td>95246</td>\n",
       "      <td>2020-03-12 09:41:09.845</td>\n",
       "      <td>12900</td>\n",
       "      <td>12900</td>\n",
       "      <td>387</td>\n",
       "      <td>0</td>\n",
       "      <td>387</td>\n",
       "      <td>True</td>\n",
       "      <td>female</td>\n",
       "      <td>False</td>\n",
       "      <td>1983-10-23</td>\n",
       "      <td>2019-07-09 08:21:14.098</td>\n",
       "      <td>6</td>\n",
       "    </tr>\n",
       "    <tr>\n",
       "      <th>2</th>\n",
       "      <td>208074</td>\n",
       "      <td>2020-02-01 08:54:53.246</td>\n",
       "      <td>7500</td>\n",
       "      <td>7500</td>\n",
       "      <td>225</td>\n",
       "      <td>0</td>\n",
       "      <td>225</td>\n",
       "      <td>True</td>\n",
       "      <td>female</td>\n",
       "      <td>False</td>\n",
       "      <td>1975-07-06</td>\n",
       "      <td>2019-08-15 01:02:13.336</td>\n",
       "      <td>9</td>\n",
       "    </tr>\n",
       "    <tr>\n",
       "      <th>3</th>\n",
       "      <td>15552</td>\n",
       "      <td>2020-03-06 10:23:21.183</td>\n",
       "      <td>11800</td>\n",
       "      <td>11800</td>\n",
       "      <td>354</td>\n",
       "      <td>0</td>\n",
       "      <td>354</td>\n",
       "      <td>False</td>\n",
       "      <td>male</td>\n",
       "      <td>False</td>\n",
       "      <td>1996-08-21</td>\n",
       "      <td>2019-08-06 02:09:28.712</td>\n",
       "      <td>4</td>\n",
       "    </tr>\n",
       "    <tr>\n",
       "      <th>4</th>\n",
       "      <td>511595</td>\n",
       "      <td>2020-03-13 12:00:27.914</td>\n",
       "      <td>29700</td>\n",
       "      <td>29700</td>\n",
       "      <td>891</td>\n",
       "      <td>0</td>\n",
       "      <td>891</td>\n",
       "      <td>True</td>\n",
       "      <td>female</td>\n",
       "      <td>False</td>\n",
       "      <td>1999-01-23</td>\n",
       "      <td>2020-03-12 00:33:46.147</td>\n",
       "      <td>5</td>\n",
       "    </tr>\n",
       "  </tbody>\n",
       "</table>\n",
       "</div>"
      ],
      "text/plain": [
       "   customer_id               created_at  pre_discount  post_discount  \\\n",
       "0       207317  2020-03-22 10:27:52.498         36236          36236   \n",
       "1        95246  2020-03-12 09:41:09.845         12900          12900   \n",
       "2       208074  2020-02-01 08:54:53.246          7500           7500   \n",
       "3        15552  2020-03-06 10:23:21.183         11800          11800   \n",
       "4       511595  2020-03-13 12:00:27.914         29700          29700   \n",
       "\n",
       "   cashback_amount  discount_amount  total_promotion  push_permission  gender  \\\n",
       "0             1087                0             1087             True  female   \n",
       "1              387                0              387             True  female   \n",
       "2              225                0              225             True  female   \n",
       "3              354                0              354            False    male   \n",
       "4              891                0              891             True  female   \n",
       "\n",
       "   is_foreigner    birthday             sign_up_date  merchant_id  \n",
       "0         False  1957-11-05  2019-11-30 16:48:19.339            9  \n",
       "1         False  1983-10-23  2019-07-09 08:21:14.098            6  \n",
       "2         False  1975-07-06  2019-08-15 01:02:13.336            9  \n",
       "3         False  1996-08-21  2019-08-06 02:09:28.712            4  \n",
       "4         False  1999-01-23  2020-03-12 00:33:46.147            5  "
      ]
     },
     "execution_count": 108,
     "metadata": {},
     "output_type": "execute_result"
    }
   ],
   "source": [
    "# 데이터 형태 확인\n",
    "Customer_data.head()"
   ]
  },
  {
   "cell_type": "code",
   "execution_count": 109,
   "metadata": {},
   "outputs": [
    {
     "name": "stdout",
     "output_type": "stream",
     "text": [
      "<class 'pandas.core.frame.DataFrame'>\n",
      "RangeIndex: 5623810 entries, 0 to 5623809\n",
      "Data columns (total 13 columns):\n",
      " #   Column           Dtype \n",
      "---  ------           ----- \n",
      " 0   customer_id      int64 \n",
      " 1   created_at       object\n",
      " 2   pre_discount     int64 \n",
      " 3   post_discount    int64 \n",
      " 4   cashback_amount  int64 \n",
      " 5   discount_amount  int64 \n",
      " 6   total_promotion  int64 \n",
      " 7   push_permission  bool  \n",
      " 8   gender           object\n",
      " 9   is_foreigner     bool  \n",
      " 10  birthday         object\n",
      " 11  sign_up_date     object\n",
      " 12  merchant_id      int64 \n",
      "dtypes: bool(2), int64(7), object(4)\n",
      "memory usage: 482.7+ MB\n"
     ]
    }
   ],
   "source": [
    "# 데이터 기본정보 확인\n",
    "Customer_data.info()"
   ]
  },
  {
   "cell_type": "code",
   "execution_count": 110,
   "metadata": {},
   "outputs": [
    {
     "data": {
      "text/plain": [
       "customer_id        0\n",
       "created_at         0\n",
       "pre_discount       0\n",
       "post_discount      0\n",
       "cashback_amount    0\n",
       "discount_amount    0\n",
       "total_promotion    0\n",
       "push_permission    0\n",
       "gender             0\n",
       "is_foreigner       0\n",
       "birthday           0\n",
       "sign_up_date       0\n",
       "merchant_id        0\n",
       "dtype: int64"
      ]
     },
     "execution_count": 110,
     "metadata": {},
     "output_type": "execute_result"
    }
   ],
   "source": [
    "# null 결측치 확인\n",
    "Customer_data.isnull().sum()"
   ]
  },
  {
   "attachments": {},
   "cell_type": "markdown",
   "metadata": {},
   "source": [
    "### 데이터 전처리 근거\n",
    "차이코퍼레이션 기업의 경우 차이페이를 사용한 온라인 결제 서비스로 수수료를 통해 수익을 보는 형태의 기업이며, 같은 온라인 결제 서비스 기업인 Payco와는 다르게 국내 서비스만 시행한 기업이기 때문에 국내인들로 데이터들을 구성하였다."
   ]
  },
  {
   "cell_type": "code",
   "execution_count": 111,
   "metadata": {},
   "outputs": [
    {
     "data": {
      "text/plain": [
       "False    5561804\n",
       "True       62006\n",
       "Name: is_foreigner, dtype: int64"
      ]
     },
     "execution_count": 111,
     "metadata": {},
     "output_type": "execute_result"
    }
   ],
   "source": [
    "# 내국인 데이터 추출을 위해 전처리\n",
    "Customer_data['is_foreigner'].value_counts()"
   ]
  },
  {
   "cell_type": "code",
   "execution_count": 112,
   "metadata": {},
   "outputs": [
    {
     "data": {
      "text/plain": [
       "False    5561804\n",
       "Name: is_foreigner, dtype: int64"
      ]
     },
     "execution_count": 112,
     "metadata": {},
     "output_type": "execute_result"
    }
   ],
   "source": [
    "# 내국인 데이터 추출\n",
    "Domestic_M = (Customer_data['is_foreigner'] == False)\n",
    "Domestic = Customer_data.loc[Domestic_M,:]\n",
    "Domestic['is_foreigner'].value_counts()"
   ]
  },
  {
   "cell_type": "code",
   "execution_count": 113,
   "metadata": {},
   "outputs": [
    {
     "name": "stdout",
     "output_type": "stream",
     "text": [
      "<class 'pandas.core.frame.DataFrame'>\n",
      "Int64Index: 5561804 entries, 0 to 5623809\n",
      "Data columns (total 13 columns):\n",
      " #   Column           Dtype \n",
      "---  ------           ----- \n",
      " 0   customer_id      int64 \n",
      " 1   created_at       object\n",
      " 2   pre_discount     int64 \n",
      " 3   post_discount    int64 \n",
      " 4   cashback_amount  int64 \n",
      " 5   discount_amount  int64 \n",
      " 6   total_promotion  int64 \n",
      " 7   push_permission  bool  \n",
      " 8   gender           object\n",
      " 9   is_foreigner     bool  \n",
      " 10  birthday         object\n",
      " 11  sign_up_date     object\n",
      " 12  merchant_id      int64 \n",
      "dtypes: bool(2), int64(7), object(4)\n",
      "memory usage: 519.8+ MB\n"
     ]
    }
   ],
   "source": [
    "# 데이터 확인\n",
    "Domestic.info()"
   ]
  },
  {
   "cell_type": "code",
   "execution_count": 114,
   "metadata": {},
   "outputs": [
    {
     "data": {
      "text/html": [
       "<div>\n",
       "<style scoped>\n",
       "    .dataframe tbody tr th:only-of-type {\n",
       "        vertical-align: middle;\n",
       "    }\n",
       "\n",
       "    .dataframe tbody tr th {\n",
       "        vertical-align: top;\n",
       "    }\n",
       "\n",
       "    .dataframe thead th {\n",
       "        text-align: right;\n",
       "    }\n",
       "</style>\n",
       "<table border=\"1\" class=\"dataframe\">\n",
       "  <thead>\n",
       "    <tr style=\"text-align: right;\">\n",
       "      <th></th>\n",
       "      <th>customer_id</th>\n",
       "      <th>created_at</th>\n",
       "      <th>pre_discount</th>\n",
       "      <th>post_discount</th>\n",
       "      <th>cashback_amount</th>\n",
       "      <th>discount_amount</th>\n",
       "      <th>total_promotion</th>\n",
       "      <th>push_permission</th>\n",
       "      <th>gender</th>\n",
       "      <th>is_foreigner</th>\n",
       "      <th>birthday</th>\n",
       "      <th>sign_up_date</th>\n",
       "      <th>merchant_id</th>\n",
       "    </tr>\n",
       "  </thead>\n",
       "  <tbody>\n",
       "    <tr>\n",
       "      <th>0</th>\n",
       "      <td>207317</td>\n",
       "      <td>2020-03-22 10:27:52.498</td>\n",
       "      <td>36236</td>\n",
       "      <td>36236</td>\n",
       "      <td>1087</td>\n",
       "      <td>0</td>\n",
       "      <td>1087</td>\n",
       "      <td>True</td>\n",
       "      <td>female</td>\n",
       "      <td>False</td>\n",
       "      <td>1957-11-05</td>\n",
       "      <td>2019-11-30 16:48:19.339</td>\n",
       "      <td>9</td>\n",
       "    </tr>\n",
       "    <tr>\n",
       "      <th>1</th>\n",
       "      <td>95246</td>\n",
       "      <td>2020-03-12 09:41:09.845</td>\n",
       "      <td>12900</td>\n",
       "      <td>12900</td>\n",
       "      <td>387</td>\n",
       "      <td>0</td>\n",
       "      <td>387</td>\n",
       "      <td>True</td>\n",
       "      <td>female</td>\n",
       "      <td>False</td>\n",
       "      <td>1983-10-23</td>\n",
       "      <td>2019-07-09 08:21:14.098</td>\n",
       "      <td>6</td>\n",
       "    </tr>\n",
       "    <tr>\n",
       "      <th>2</th>\n",
       "      <td>208074</td>\n",
       "      <td>2020-02-01 08:54:53.246</td>\n",
       "      <td>7500</td>\n",
       "      <td>7500</td>\n",
       "      <td>225</td>\n",
       "      <td>0</td>\n",
       "      <td>225</td>\n",
       "      <td>True</td>\n",
       "      <td>female</td>\n",
       "      <td>False</td>\n",
       "      <td>1975-07-06</td>\n",
       "      <td>2019-08-15 01:02:13.336</td>\n",
       "      <td>9</td>\n",
       "    </tr>\n",
       "    <tr>\n",
       "      <th>3</th>\n",
       "      <td>15552</td>\n",
       "      <td>2020-03-06 10:23:21.183</td>\n",
       "      <td>11800</td>\n",
       "      <td>11800</td>\n",
       "      <td>354</td>\n",
       "      <td>0</td>\n",
       "      <td>354</td>\n",
       "      <td>False</td>\n",
       "      <td>male</td>\n",
       "      <td>False</td>\n",
       "      <td>1996-08-21</td>\n",
       "      <td>2019-08-06 02:09:28.712</td>\n",
       "      <td>4</td>\n",
       "    </tr>\n",
       "    <tr>\n",
       "      <th>4</th>\n",
       "      <td>511595</td>\n",
       "      <td>2020-03-13 12:00:27.914</td>\n",
       "      <td>29700</td>\n",
       "      <td>29700</td>\n",
       "      <td>891</td>\n",
       "      <td>0</td>\n",
       "      <td>891</td>\n",
       "      <td>True</td>\n",
       "      <td>female</td>\n",
       "      <td>False</td>\n",
       "      <td>1999-01-23</td>\n",
       "      <td>2020-03-12 00:33:46.147</td>\n",
       "      <td>5</td>\n",
       "    </tr>\n",
       "  </tbody>\n",
       "</table>\n",
       "</div>"
      ],
      "text/plain": [
       "   customer_id               created_at  pre_discount  post_discount  \\\n",
       "0       207317  2020-03-22 10:27:52.498         36236          36236   \n",
       "1        95246  2020-03-12 09:41:09.845         12900          12900   \n",
       "2       208074  2020-02-01 08:54:53.246          7500           7500   \n",
       "3        15552  2020-03-06 10:23:21.183         11800          11800   \n",
       "4       511595  2020-03-13 12:00:27.914         29700          29700   \n",
       "\n",
       "   cashback_amount  discount_amount  total_promotion  push_permission  gender  \\\n",
       "0             1087                0             1087             True  female   \n",
       "1              387                0              387             True  female   \n",
       "2              225                0              225             True  female   \n",
       "3              354                0              354            False    male   \n",
       "4              891                0              891             True  female   \n",
       "\n",
       "   is_foreigner    birthday             sign_up_date  merchant_id  \n",
       "0         False  1957-11-05  2019-11-30 16:48:19.339            9  \n",
       "1         False  1983-10-23  2019-07-09 08:21:14.098            6  \n",
       "2         False  1975-07-06  2019-08-15 01:02:13.336            9  \n",
       "3         False  1996-08-21  2019-08-06 02:09:28.712            4  \n",
       "4         False  1999-01-23  2020-03-12 00:33:46.147            5  "
      ]
     },
     "execution_count": 114,
     "metadata": {},
     "output_type": "execute_result"
    }
   ],
   "source": [
    "Domestic.head()"
   ]
  },
  {
   "attachments": {},
   "cell_type": "markdown",
   "metadata": {},
   "source": [
    "### 연령별 구분"
   ]
  },
  {
   "cell_type": "code",
   "execution_count": 115,
   "metadata": {},
   "outputs": [
    {
     "name": "stderr",
     "output_type": "stream",
     "text": [
      "C:\\Users\\rhlab\\AppData\\Local\\Temp\\ipykernel_25756\\225432355.py:2: SettingWithCopyWarning: \n",
      "A value is trying to be set on a copy of a slice from a DataFrame.\n",
      "Try using .loc[row_indexer,col_indexer] = value instead\n",
      "\n",
      "See the caveats in the documentation: https://pandas.pydata.org/pandas-docs/stable/user_guide/indexing.html#returning-a-view-versus-a-copy\n",
      "  Domestic['birthday'] = pd.to_datetime(Domestic['birthday'])\n"
     ]
    }
   ],
   "source": [
    "# 나이 계산을 위해 birthday를 datetime으로 형 변환\n",
    "Domestic['birthday'] = pd.to_datetime(Domestic['birthday'])"
   ]
  },
  {
   "cell_type": "code",
   "execution_count": 116,
   "metadata": {},
   "outputs": [
    {
     "name": "stdout",
     "output_type": "stream",
     "text": [
      "<class 'pandas.core.series.Series'>\n",
      "Int64Index: 5561804 entries, 0 to 5623809\n",
      "Series name: birthday\n",
      "Non-Null Count    Dtype         \n",
      "--------------    -----         \n",
      "5561804 non-null  datetime64[ns]\n",
      "dtypes: datetime64[ns](1)\n",
      "memory usage: 84.9 MB\n"
     ]
    }
   ],
   "source": [
    "# 형 변환 확인\n",
    "Domestic['birthday'].info()"
   ]
  },
  {
   "cell_type": "code",
   "execution_count": 117,
   "metadata": {},
   "outputs": [
    {
     "data": {
      "text/plain": [
       "datetime.date(2023, 6, 1)"
      ]
     },
     "execution_count": 117,
     "metadata": {},
     "output_type": "execute_result"
    }
   ],
   "source": [
    "# today 날짜 가져오기\n",
    "today = datetime.now().date()\n",
    "today"
   ]
  },
  {
   "cell_type": "code",
   "execution_count": 118,
   "metadata": {},
   "outputs": [
    {
     "name": "stderr",
     "output_type": "stream",
     "text": [
      "C:\\Users\\rhlab\\AppData\\Local\\Temp\\ipykernel_25756\\2343550268.py:2: SettingWithCopyWarning: \n",
      "A value is trying to be set on a copy of a slice from a DataFrame.\n",
      "Try using .loc[row_indexer,col_indexer] = value instead\n",
      "\n",
      "See the caveats in the documentation: https://pandas.pydata.org/pandas-docs/stable/user_guide/indexing.html#returning-a-view-versus-a-copy\n",
      "  Domestic['age'] = today.year - Domestic['birthday'].dt.year\n"
     ]
    }
   ],
   "source": [
    "# ['age'] 행 추가 후 구매내역별 나이 계산\n",
    "Domestic['age'] = today.year - Domestic['birthday'].dt.year"
   ]
  },
  {
   "cell_type": "code",
   "execution_count": 119,
   "metadata": {},
   "outputs": [
    {
     "data": {
      "text/plain": [
       "0"
      ]
     },
     "execution_count": 119,
     "metadata": {},
     "output_type": "execute_result"
    }
   ],
   "source": [
    "# 누락 데이터 확인\n",
    "Domestic['age'].isnull().sum()"
   ]
  },
  {
   "cell_type": "code",
   "execution_count": 120,
   "metadata": {},
   "outputs": [
    {
     "data": {
      "text/plain": [
       "41     268939\n",
       "42     266739\n",
       "40     257439\n",
       "43     257414\n",
       "39     228553\n",
       "        ...  \n",
       "94         38\n",
       "17         16\n",
       "96          6\n",
       "104         6\n",
       "97          2\n",
       "Name: age, Length: 83, dtype: int64"
      ]
     },
     "execution_count": 120,
     "metadata": {},
     "output_type": "execute_result"
    }
   ],
   "source": [
    "Domestic['age'].value_counts()"
   ]
  },
  {
   "cell_type": "code",
   "execution_count": 121,
   "metadata": {},
   "outputs": [
    {
     "data": {
      "text/html": [
       "<div>\n",
       "<style scoped>\n",
       "    .dataframe tbody tr th:only-of-type {\n",
       "        vertical-align: middle;\n",
       "    }\n",
       "\n",
       "    .dataframe tbody tr th {\n",
       "        vertical-align: top;\n",
       "    }\n",
       "\n",
       "    .dataframe thead th {\n",
       "        text-align: right;\n",
       "    }\n",
       "</style>\n",
       "<table border=\"1\" class=\"dataframe\">\n",
       "  <thead>\n",
       "    <tr style=\"text-align: right;\">\n",
       "      <th></th>\n",
       "      <th>customer_id</th>\n",
       "      <th>created_at</th>\n",
       "      <th>pre_discount</th>\n",
       "      <th>post_discount</th>\n",
       "      <th>cashback_amount</th>\n",
       "      <th>discount_amount</th>\n",
       "      <th>total_promotion</th>\n",
       "      <th>push_permission</th>\n",
       "      <th>gender</th>\n",
       "      <th>is_foreigner</th>\n",
       "      <th>birthday</th>\n",
       "      <th>sign_up_date</th>\n",
       "      <th>merchant_id</th>\n",
       "      <th>age</th>\n",
       "    </tr>\n",
       "  </thead>\n",
       "  <tbody>\n",
       "    <tr>\n",
       "      <th>0</th>\n",
       "      <td>207317</td>\n",
       "      <td>2020-03-22 10:27:52.498</td>\n",
       "      <td>36236</td>\n",
       "      <td>36236</td>\n",
       "      <td>1087</td>\n",
       "      <td>0</td>\n",
       "      <td>1087</td>\n",
       "      <td>True</td>\n",
       "      <td>female</td>\n",
       "      <td>False</td>\n",
       "      <td>1957-11-05</td>\n",
       "      <td>2019-11-30 16:48:19.339</td>\n",
       "      <td>9</td>\n",
       "      <td>66</td>\n",
       "    </tr>\n",
       "    <tr>\n",
       "      <th>1</th>\n",
       "      <td>95246</td>\n",
       "      <td>2020-03-12 09:41:09.845</td>\n",
       "      <td>12900</td>\n",
       "      <td>12900</td>\n",
       "      <td>387</td>\n",
       "      <td>0</td>\n",
       "      <td>387</td>\n",
       "      <td>True</td>\n",
       "      <td>female</td>\n",
       "      <td>False</td>\n",
       "      <td>1983-10-23</td>\n",
       "      <td>2019-07-09 08:21:14.098</td>\n",
       "      <td>6</td>\n",
       "      <td>40</td>\n",
       "    </tr>\n",
       "    <tr>\n",
       "      <th>2</th>\n",
       "      <td>208074</td>\n",
       "      <td>2020-02-01 08:54:53.246</td>\n",
       "      <td>7500</td>\n",
       "      <td>7500</td>\n",
       "      <td>225</td>\n",
       "      <td>0</td>\n",
       "      <td>225</td>\n",
       "      <td>True</td>\n",
       "      <td>female</td>\n",
       "      <td>False</td>\n",
       "      <td>1975-07-06</td>\n",
       "      <td>2019-08-15 01:02:13.336</td>\n",
       "      <td>9</td>\n",
       "      <td>48</td>\n",
       "    </tr>\n",
       "    <tr>\n",
       "      <th>3</th>\n",
       "      <td>15552</td>\n",
       "      <td>2020-03-06 10:23:21.183</td>\n",
       "      <td>11800</td>\n",
       "      <td>11800</td>\n",
       "      <td>354</td>\n",
       "      <td>0</td>\n",
       "      <td>354</td>\n",
       "      <td>False</td>\n",
       "      <td>male</td>\n",
       "      <td>False</td>\n",
       "      <td>1996-08-21</td>\n",
       "      <td>2019-08-06 02:09:28.712</td>\n",
       "      <td>4</td>\n",
       "      <td>27</td>\n",
       "    </tr>\n",
       "    <tr>\n",
       "      <th>4</th>\n",
       "      <td>511595</td>\n",
       "      <td>2020-03-13 12:00:27.914</td>\n",
       "      <td>29700</td>\n",
       "      <td>29700</td>\n",
       "      <td>891</td>\n",
       "      <td>0</td>\n",
       "      <td>891</td>\n",
       "      <td>True</td>\n",
       "      <td>female</td>\n",
       "      <td>False</td>\n",
       "      <td>1999-01-23</td>\n",
       "      <td>2020-03-12 00:33:46.147</td>\n",
       "      <td>5</td>\n",
       "      <td>24</td>\n",
       "    </tr>\n",
       "  </tbody>\n",
       "</table>\n",
       "</div>"
      ],
      "text/plain": [
       "   customer_id               created_at  pre_discount  post_discount  \\\n",
       "0       207317  2020-03-22 10:27:52.498         36236          36236   \n",
       "1        95246  2020-03-12 09:41:09.845         12900          12900   \n",
       "2       208074  2020-02-01 08:54:53.246          7500           7500   \n",
       "3        15552  2020-03-06 10:23:21.183         11800          11800   \n",
       "4       511595  2020-03-13 12:00:27.914         29700          29700   \n",
       "\n",
       "   cashback_amount  discount_amount  total_promotion  push_permission  gender  \\\n",
       "0             1087                0             1087             True  female   \n",
       "1              387                0              387             True  female   \n",
       "2              225                0              225             True  female   \n",
       "3              354                0              354            False    male   \n",
       "4              891                0              891             True  female   \n",
       "\n",
       "   is_foreigner   birthday             sign_up_date  merchant_id  age  \n",
       "0         False 1957-11-05  2019-11-30 16:48:19.339            9   66  \n",
       "1         False 1983-10-23  2019-07-09 08:21:14.098            6   40  \n",
       "2         False 1975-07-06  2019-08-15 01:02:13.336            9   48  \n",
       "3         False 1996-08-21  2019-08-06 02:09:28.712            4   27  \n",
       "4         False 1999-01-23  2020-03-12 00:33:46.147            5   24  "
      ]
     },
     "execution_count": 121,
     "metadata": {},
     "output_type": "execute_result"
    }
   ],
   "source": [
    "Domestic.head()"
   ]
  },
  {
   "cell_type": "code",
   "execution_count": 122,
   "metadata": {},
   "outputs": [],
   "source": [
    "# 연령별로 나누기 위한 함수\n",
    "def age_categories(age):\n",
    "    age = (age // 10) * 10\n",
    "    return age"
   ]
  },
  {
   "cell_type": "code",
   "execution_count": 123,
   "metadata": {},
   "outputs": [
    {
     "data": {
      "text/plain": [
       "0          60\n",
       "1          40\n",
       "2          40\n",
       "3          20\n",
       "4          20\n",
       "           ..\n",
       "5623805    40\n",
       "5623806    30\n",
       "5623807    30\n",
       "5623808    40\n",
       "5623809    30\n",
       "Name: age, Length: 5561804, dtype: int64"
      ]
     },
     "execution_count": 123,
     "metadata": {},
     "output_type": "execute_result"
    }
   ],
   "source": [
    "# age_category에 연령대 생성\n",
    "age_category = Domestic.age.apply(age_categories)\n",
    "age_category"
   ]
  },
  {
   "cell_type": "code",
   "execution_count": 124,
   "metadata": {},
   "outputs": [
    {
     "name": "stdout",
     "output_type": "stream",
     "text": [
      "<class 'pandas.core.series.Series'>\n",
      "Int64Index: 5561804 entries, 0 to 5623809\n",
      "Series name: age\n",
      "Non-Null Count    Dtype   \n",
      "--------------    -----   \n",
      "5561804 non-null  category\n",
      "dtypes: category(1)\n",
      "memory usage: 47.7 MB\n"
     ]
    }
   ],
   "source": [
    "# category로 형 변환\n",
    "age_category = age_category.astype('category')\n",
    "age_category.info()"
   ]
  },
  {
   "cell_type": "code",
   "execution_count": 125,
   "metadata": {},
   "outputs": [
    {
     "data": {
      "text/html": [
       "<div>\n",
       "<style scoped>\n",
       "    .dataframe tbody tr th:only-of-type {\n",
       "        vertical-align: middle;\n",
       "    }\n",
       "\n",
       "    .dataframe tbody tr th {\n",
       "        vertical-align: top;\n",
       "    }\n",
       "\n",
       "    .dataframe thead th {\n",
       "        text-align: right;\n",
       "    }\n",
       "</style>\n",
       "<table border=\"1\" class=\"dataframe\">\n",
       "  <thead>\n",
       "    <tr style=\"text-align: right;\">\n",
       "      <th></th>\n",
       "      <th>customer_id</th>\n",
       "      <th>created_at</th>\n",
       "      <th>pre_discount</th>\n",
       "      <th>post_discount</th>\n",
       "      <th>cashback_amount</th>\n",
       "      <th>discount_amount</th>\n",
       "      <th>total_promotion</th>\n",
       "      <th>push_permission</th>\n",
       "      <th>gender</th>\n",
       "      <th>is_foreigner</th>\n",
       "      <th>birthday</th>\n",
       "      <th>sign_up_date</th>\n",
       "      <th>merchant_id</th>\n",
       "      <th>age</th>\n",
       "      <th>age_category</th>\n",
       "    </tr>\n",
       "  </thead>\n",
       "  <tbody>\n",
       "    <tr>\n",
       "      <th>0</th>\n",
       "      <td>207317</td>\n",
       "      <td>2020-03-22 10:27:52.498</td>\n",
       "      <td>36236</td>\n",
       "      <td>36236</td>\n",
       "      <td>1087</td>\n",
       "      <td>0</td>\n",
       "      <td>1087</td>\n",
       "      <td>True</td>\n",
       "      <td>female</td>\n",
       "      <td>False</td>\n",
       "      <td>1957-11-05</td>\n",
       "      <td>2019-11-30 16:48:19.339</td>\n",
       "      <td>9</td>\n",
       "      <td>66</td>\n",
       "      <td>60</td>\n",
       "    </tr>\n",
       "    <tr>\n",
       "      <th>1</th>\n",
       "      <td>95246</td>\n",
       "      <td>2020-03-12 09:41:09.845</td>\n",
       "      <td>12900</td>\n",
       "      <td>12900</td>\n",
       "      <td>387</td>\n",
       "      <td>0</td>\n",
       "      <td>387</td>\n",
       "      <td>True</td>\n",
       "      <td>female</td>\n",
       "      <td>False</td>\n",
       "      <td>1983-10-23</td>\n",
       "      <td>2019-07-09 08:21:14.098</td>\n",
       "      <td>6</td>\n",
       "      <td>40</td>\n",
       "      <td>40</td>\n",
       "    </tr>\n",
       "    <tr>\n",
       "      <th>2</th>\n",
       "      <td>208074</td>\n",
       "      <td>2020-02-01 08:54:53.246</td>\n",
       "      <td>7500</td>\n",
       "      <td>7500</td>\n",
       "      <td>225</td>\n",
       "      <td>0</td>\n",
       "      <td>225</td>\n",
       "      <td>True</td>\n",
       "      <td>female</td>\n",
       "      <td>False</td>\n",
       "      <td>1975-07-06</td>\n",
       "      <td>2019-08-15 01:02:13.336</td>\n",
       "      <td>9</td>\n",
       "      <td>48</td>\n",
       "      <td>40</td>\n",
       "    </tr>\n",
       "    <tr>\n",
       "      <th>3</th>\n",
       "      <td>15552</td>\n",
       "      <td>2020-03-06 10:23:21.183</td>\n",
       "      <td>11800</td>\n",
       "      <td>11800</td>\n",
       "      <td>354</td>\n",
       "      <td>0</td>\n",
       "      <td>354</td>\n",
       "      <td>False</td>\n",
       "      <td>male</td>\n",
       "      <td>False</td>\n",
       "      <td>1996-08-21</td>\n",
       "      <td>2019-08-06 02:09:28.712</td>\n",
       "      <td>4</td>\n",
       "      <td>27</td>\n",
       "      <td>20</td>\n",
       "    </tr>\n",
       "    <tr>\n",
       "      <th>4</th>\n",
       "      <td>511595</td>\n",
       "      <td>2020-03-13 12:00:27.914</td>\n",
       "      <td>29700</td>\n",
       "      <td>29700</td>\n",
       "      <td>891</td>\n",
       "      <td>0</td>\n",
       "      <td>891</td>\n",
       "      <td>True</td>\n",
       "      <td>female</td>\n",
       "      <td>False</td>\n",
       "      <td>1999-01-23</td>\n",
       "      <td>2020-03-12 00:33:46.147</td>\n",
       "      <td>5</td>\n",
       "      <td>24</td>\n",
       "      <td>20</td>\n",
       "    </tr>\n",
       "  </tbody>\n",
       "</table>\n",
       "</div>"
      ],
      "text/plain": [
       "   customer_id               created_at  pre_discount  post_discount  \\\n",
       "0       207317  2020-03-22 10:27:52.498         36236          36236   \n",
       "1        95246  2020-03-12 09:41:09.845         12900          12900   \n",
       "2       208074  2020-02-01 08:54:53.246          7500           7500   \n",
       "3        15552  2020-03-06 10:23:21.183         11800          11800   \n",
       "4       511595  2020-03-13 12:00:27.914         29700          29700   \n",
       "\n",
       "   cashback_amount  discount_amount  total_promotion  push_permission  gender  \\\n",
       "0             1087                0             1087             True  female   \n",
       "1              387                0              387             True  female   \n",
       "2              225                0              225             True  female   \n",
       "3              354                0              354            False    male   \n",
       "4              891                0              891             True  female   \n",
       "\n",
       "   is_foreigner   birthday             sign_up_date  merchant_id  age  \\\n",
       "0         False 1957-11-05  2019-11-30 16:48:19.339            9   66   \n",
       "1         False 1983-10-23  2019-07-09 08:21:14.098            6   40   \n",
       "2         False 1975-07-06  2019-08-15 01:02:13.336            9   48   \n",
       "3         False 1996-08-21  2019-08-06 02:09:28.712            4   27   \n",
       "4         False 1999-01-23  2020-03-12 00:33:46.147            5   24   \n",
       "\n",
       "  age_category  \n",
       "0           60  \n",
       "1           40  \n",
       "2           40  \n",
       "3           20  \n",
       "4           20  "
      ]
     },
     "execution_count": 125,
     "metadata": {},
     "output_type": "execute_result"
    }
   ],
   "source": [
    "# 14번째 행에 age_category 데이터 추가 \n",
    "Domestic.insert(14, 'age_category', age_category)\n",
    "Domestic.head()"
   ]
  },
  {
   "cell_type": "code",
   "execution_count": 126,
   "metadata": {},
   "outputs": [
    {
     "data": {
      "text/plain": [
       "customer_id                 int64\n",
       "created_at                 object\n",
       "pre_discount                int64\n",
       "post_discount               int64\n",
       "cashback_amount             int64\n",
       "discount_amount             int64\n",
       "total_promotion             int64\n",
       "push_permission              bool\n",
       "gender                     object\n",
       "is_foreigner                 bool\n",
       "birthday           datetime64[ns]\n",
       "sign_up_date               object\n",
       "merchant_id                 int64\n",
       "age                         int64\n",
       "age_category             category\n",
       "dtype: object"
      ]
     },
     "execution_count": 126,
     "metadata": {},
     "output_type": "execute_result"
    }
   ],
   "source": [
    "# 변경한 데이터 타입 확인\n",
    "Domestic.dtypes"
   ]
  },
  {
   "cell_type": "code",
   "execution_count": 127,
   "metadata": {},
   "outputs": [
    {
     "data": {
      "text/plain": [
       "{'whiskers': [<matplotlib.lines.Line2D at 0x16fd3d631d0>,\n",
       "  <matplotlib.lines.Line2D at 0x16fd3d63bd0>],\n",
       " 'caps': [<matplotlib.lines.Line2D at 0x16fd3d704d0>,\n",
       "  <matplotlib.lines.Line2D at 0x16fd3d70d50>],\n",
       " 'boxes': [<matplotlib.lines.Line2D at 0x16f676ae610>],\n",
       " 'medians': [<matplotlib.lines.Line2D at 0x16fd3d71110>],\n",
       " 'fliers': [<matplotlib.lines.Line2D at 0x16e99593b90>],\n",
       " 'means': []}"
      ]
     },
     "execution_count": 127,
     "metadata": {},
     "output_type": "execute_result"
    },
    {
     "data": {
      "image/png": "[encoded data removed]",
      "text/plain": [
       "<Figure size 640x480 with 1 Axes>"
      ]
     },
     "metadata": {},
     "output_type": "display_data"
    }
   ],
   "source": [
    "# 연령 분포 확인, 이상치 확인\n",
    "plt.boxplot(Domestic['age'], notch=True, whis=1.5, vert=False)"
   ]
  },
  {
   "cell_type": "code",
   "execution_count": 128,
   "metadata": {},
   "outputs": [],
   "source": [
    "# 정확한 데이터 정보를 추출하기 위해 19세 이하, 80세 이상 데이터들은 삭제\n",
    "Domestic = Domestic.loc[(Domestic['age'] <= 80) & (Domestic['age'] >= 19)]"
   ]
  },
  {
   "cell_type": "code",
   "execution_count": 129,
   "metadata": {},
   "outputs": [
    {
     "data": {
      "text/plain": [
       "array([66, 40, 48, 27, 24, 44, 49, 37, 36, 46, 42, 33, 39, 43, 45, 35, 28,\n",
       "       50, 38, 31, 34, 41, 51, 47, 30, 29, 58, 54, 25, 52, 59, 20, 55, 26,\n",
       "       32, 71, 23, 56, 68, 61, 62, 64, 21, 57, 53, 19, 60, 22, 63, 67, 73,\n",
       "       77, 65, 69, 74, 70, 76, 79, 72, 75, 80, 78], dtype=int64)"
      ]
     },
     "execution_count": 129,
     "metadata": {},
     "output_type": "execute_result"
    }
   ],
   "source": [
    "# age 데이터 확인\n",
    "Domestic['age'].unique()"
   ]
  },
  {
   "cell_type": "code",
   "execution_count": 130,
   "metadata": {},
   "outputs": [
    {
     "data": {
      "text/html": [
       "<div>\n",
       "<style scoped>\n",
       "    .dataframe tbody tr th:only-of-type {\n",
       "        vertical-align: middle;\n",
       "    }\n",
       "\n",
       "    .dataframe tbody tr th {\n",
       "        vertical-align: top;\n",
       "    }\n",
       "\n",
       "    .dataframe thead th {\n",
       "        text-align: right;\n",
       "    }\n",
       "</style>\n",
       "<table border=\"1\" class=\"dataframe\">\n",
       "  <thead>\n",
       "    <tr style=\"text-align: right;\">\n",
       "      <th></th>\n",
       "      <th>customer_id</th>\n",
       "      <th>created_at</th>\n",
       "      <th>pre_discount</th>\n",
       "      <th>post_discount</th>\n",
       "      <th>cashback_amount</th>\n",
       "      <th>discount_amount</th>\n",
       "      <th>total_promotion</th>\n",
       "      <th>push_permission</th>\n",
       "      <th>gender</th>\n",
       "      <th>is_foreigner</th>\n",
       "      <th>birthday</th>\n",
       "      <th>sign_up_date</th>\n",
       "      <th>merchant_id</th>\n",
       "      <th>age</th>\n",
       "      <th>age_category</th>\n",
       "    </tr>\n",
       "  </thead>\n",
       "  <tbody>\n",
       "    <tr>\n",
       "      <th>0</th>\n",
       "      <td>207317</td>\n",
       "      <td>2020-03-22 10:27:52.498</td>\n",
       "      <td>36236</td>\n",
       "      <td>36236</td>\n",
       "      <td>1087</td>\n",
       "      <td>0</td>\n",
       "      <td>1087</td>\n",
       "      <td>True</td>\n",
       "      <td>female</td>\n",
       "      <td>False</td>\n",
       "      <td>1957-11-05</td>\n",
       "      <td>2019-11-30 16:48:19.339</td>\n",
       "      <td>9</td>\n",
       "      <td>66</td>\n",
       "      <td>60</td>\n",
       "    </tr>\n",
       "    <tr>\n",
       "      <th>1</th>\n",
       "      <td>95246</td>\n",
       "      <td>2020-03-12 09:41:09.845</td>\n",
       "      <td>12900</td>\n",
       "      <td>12900</td>\n",
       "      <td>387</td>\n",
       "      <td>0</td>\n",
       "      <td>387</td>\n",
       "      <td>True</td>\n",
       "      <td>female</td>\n",
       "      <td>False</td>\n",
       "      <td>1983-10-23</td>\n",
       "      <td>2019-07-09 08:21:14.098</td>\n",
       "      <td>6</td>\n",
       "      <td>40</td>\n",
       "      <td>40</td>\n",
       "    </tr>\n",
       "    <tr>\n",
       "      <th>2</th>\n",
       "      <td>208074</td>\n",
       "      <td>2020-02-01 08:54:53.246</td>\n",
       "      <td>7500</td>\n",
       "      <td>7500</td>\n",
       "      <td>225</td>\n",
       "      <td>0</td>\n",
       "      <td>225</td>\n",
       "      <td>True</td>\n",
       "      <td>female</td>\n",
       "      <td>False</td>\n",
       "      <td>1975-07-06</td>\n",
       "      <td>2019-08-15 01:02:13.336</td>\n",
       "      <td>9</td>\n",
       "      <td>48</td>\n",
       "      <td>40</td>\n",
       "    </tr>\n",
       "    <tr>\n",
       "      <th>3</th>\n",
       "      <td>15552</td>\n",
       "      <td>2020-03-06 10:23:21.183</td>\n",
       "      <td>11800</td>\n",
       "      <td>11800</td>\n",
       "      <td>354</td>\n",
       "      <td>0</td>\n",
       "      <td>354</td>\n",
       "      <td>False</td>\n",
       "      <td>male</td>\n",
       "      <td>False</td>\n",
       "      <td>1996-08-21</td>\n",
       "      <td>2019-08-06 02:09:28.712</td>\n",
       "      <td>4</td>\n",
       "      <td>27</td>\n",
       "      <td>20</td>\n",
       "    </tr>\n",
       "    <tr>\n",
       "      <th>4</th>\n",
       "      <td>511595</td>\n",
       "      <td>2020-03-13 12:00:27.914</td>\n",
       "      <td>29700</td>\n",
       "      <td>29700</td>\n",
       "      <td>891</td>\n",
       "      <td>0</td>\n",
       "      <td>891</td>\n",
       "      <td>True</td>\n",
       "      <td>female</td>\n",
       "      <td>False</td>\n",
       "      <td>1999-01-23</td>\n",
       "      <td>2020-03-12 00:33:46.147</td>\n",
       "      <td>5</td>\n",
       "      <td>24</td>\n",
       "      <td>20</td>\n",
       "    </tr>\n",
       "  </tbody>\n",
       "</table>\n",
       "</div>"
      ],
      "text/plain": [
       "   customer_id               created_at  pre_discount  post_discount  \\\n",
       "0       207317  2020-03-22 10:27:52.498         36236          36236   \n",
       "1        95246  2020-03-12 09:41:09.845         12900          12900   \n",
       "2       208074  2020-02-01 08:54:53.246          7500           7500   \n",
       "3        15552  2020-03-06 10:23:21.183         11800          11800   \n",
       "4       511595  2020-03-13 12:00:27.914         29700          29700   \n",
       "\n",
       "   cashback_amount  discount_amount  total_promotion  push_permission  gender  \\\n",
       "0             1087                0             1087             True  female   \n",
       "1              387                0              387             True  female   \n",
       "2              225                0              225             True  female   \n",
       "3              354                0              354            False    male   \n",
       "4              891                0              891             True  female   \n",
       "\n",
       "   is_foreigner   birthday             sign_up_date  merchant_id  age  \\\n",
       "0         False 1957-11-05  2019-11-30 16:48:19.339            9   66   \n",
       "1         False 1983-10-23  2019-07-09 08:21:14.098            6   40   \n",
       "2         False 1975-07-06  2019-08-15 01:02:13.336            9   48   \n",
       "3         False 1996-08-21  2019-08-06 02:09:28.712            4   27   \n",
       "4         False 1999-01-23  2020-03-12 00:33:46.147            5   24   \n",
       "\n",
       "  age_category  \n",
       "0           60  \n",
       "1           40  \n",
       "2           40  \n",
       "3           20  \n",
       "4           20  "
      ]
     },
     "execution_count": 130,
     "metadata": {},
     "output_type": "execute_result"
    }
   ],
   "source": [
    "Domestic.head()"
   ]
  },
  {
   "attachments": {},
   "cell_type": "markdown",
   "metadata": {},
   "source": [
    "### 중복 데이터 확인"
   ]
  },
  {
   "cell_type": "code",
   "execution_count": 131,
   "metadata": {},
   "outputs": [
    {
     "data": {
      "text/plain": [
       "True     5009906\n",
       "False     537314\n",
       "Name: customer_id, dtype: int64"
      ]
     },
     "execution_count": 131,
     "metadata": {},
     "output_type": "execute_result"
    }
   ],
   "source": [
    "# 주문자별 중복 데이터 확인\n",
    "duplicate_data = Domestic['customer_id'].duplicated()\n",
    "duplicate_data.value_counts()\n"
   ]
  },
  {
   "cell_type": "code",
   "execution_count": 132,
   "metadata": {},
   "outputs": [
    {
     "data": {
      "text/plain": [
       "10.72503156745855"
      ]
     },
     "execution_count": 132,
     "metadata": {},
     "output_type": "execute_result"
    }
   ],
   "source": [
    "# 정보의 약 10%를 차지하여, 중복 데이터 처리 하지 않음\n",
    "(537314 / 5009906) * 100"
   ]
  },
  {
   "attachments": {},
   "cell_type": "markdown",
   "metadata": {},
   "source": [
    "### 필요없는 칼럼 삭제"
   ]
  },
  {
   "cell_type": "code",
   "execution_count": 133,
   "metadata": {},
   "outputs": [
    {
     "data": {
      "text/html": [
       "<div>\n",
       "<style scoped>\n",
       "    .dataframe tbody tr th:only-of-type {\n",
       "        vertical-align: middle;\n",
       "    }\n",
       "\n",
       "    .dataframe tbody tr th {\n",
       "        vertical-align: top;\n",
       "    }\n",
       "\n",
       "    .dataframe thead th {\n",
       "        text-align: right;\n",
       "    }\n",
       "</style>\n",
       "<table border=\"1\" class=\"dataframe\">\n",
       "  <thead>\n",
       "    <tr style=\"text-align: right;\">\n",
       "      <th></th>\n",
       "      <th>customer_id</th>\n",
       "      <th>pre_discount</th>\n",
       "      <th>post_discount</th>\n",
       "      <th>cashback_amount</th>\n",
       "      <th>discount_amount</th>\n",
       "      <th>total_promotion</th>\n",
       "      <th>gender</th>\n",
       "      <th>age</th>\n",
       "      <th>age_category</th>\n",
       "    </tr>\n",
       "  </thead>\n",
       "  <tbody>\n",
       "    <tr>\n",
       "      <th>0</th>\n",
       "      <td>207317</td>\n",
       "      <td>36236</td>\n",
       "      <td>36236</td>\n",
       "      <td>1087</td>\n",
       "      <td>0</td>\n",
       "      <td>1087</td>\n",
       "      <td>female</td>\n",
       "      <td>66</td>\n",
       "      <td>60</td>\n",
       "    </tr>\n",
       "    <tr>\n",
       "      <th>1</th>\n",
       "      <td>95246</td>\n",
       "      <td>12900</td>\n",
       "      <td>12900</td>\n",
       "      <td>387</td>\n",
       "      <td>0</td>\n",
       "      <td>387</td>\n",
       "      <td>female</td>\n",
       "      <td>40</td>\n",
       "      <td>40</td>\n",
       "    </tr>\n",
       "    <tr>\n",
       "      <th>2</th>\n",
       "      <td>208074</td>\n",
       "      <td>7500</td>\n",
       "      <td>7500</td>\n",
       "      <td>225</td>\n",
       "      <td>0</td>\n",
       "      <td>225</td>\n",
       "      <td>female</td>\n",
       "      <td>48</td>\n",
       "      <td>40</td>\n",
       "    </tr>\n",
       "    <tr>\n",
       "      <th>3</th>\n",
       "      <td>15552</td>\n",
       "      <td>11800</td>\n",
       "      <td>11800</td>\n",
       "      <td>354</td>\n",
       "      <td>0</td>\n",
       "      <td>354</td>\n",
       "      <td>male</td>\n",
       "      <td>27</td>\n",
       "      <td>20</td>\n",
       "    </tr>\n",
       "    <tr>\n",
       "      <th>4</th>\n",
       "      <td>511595</td>\n",
       "      <td>29700</td>\n",
       "      <td>29700</td>\n",
       "      <td>891</td>\n",
       "      <td>0</td>\n",
       "      <td>891</td>\n",
       "      <td>female</td>\n",
       "      <td>24</td>\n",
       "      <td>20</td>\n",
       "    </tr>\n",
       "  </tbody>\n",
       "</table>\n",
       "</div>"
      ],
      "text/plain": [
       "   customer_id  pre_discount  post_discount  cashback_amount  discount_amount  \\\n",
       "0       207317         36236          36236             1087                0   \n",
       "1        95246         12900          12900              387                0   \n",
       "2       208074          7500           7500              225                0   \n",
       "3        15552         11800          11800              354                0   \n",
       "4       511595         29700          29700              891                0   \n",
       "\n",
       "   total_promotion  gender  age age_category  \n",
       "0             1087  female   66           60  \n",
       "1              387  female   40           40  \n",
       "2              225  female   48           40  \n",
       "3              354    male   27           20  \n",
       "4              891  female   24           20  "
      ]
     },
     "execution_count": 133,
     "metadata": {},
     "output_type": "execute_result"
    }
   ],
   "source": [
    "Domestic = Domestic.drop(['created_at','push_permission','is_foreigner','sign_up_date','merchant_id','birthday'], axis=1)\n",
    "Domestic.head()"
   ]
  },
  {
   "cell_type": "code",
   "execution_count": 135,
   "metadata": {},
   "outputs": [],
   "source": [
    "Domestic.to_csv('EDA_data.csv',index = False)"
   ]
  },
  {
   "cell_type": "code",
   "execution_count": null,
   "metadata": {},
   "outputs": [],
   "source": [
    "# fig = sns.pairplot(a_df, hue='gender')\n",
    "# fig"
   ]
  }
 ],
 "metadata": {
  "kernelspec": {
   "display_name": "Python 3",
   "language": "python",
   "name": "python3"
  },
  "language_info": {
   "codemirror_mode": {
    "name": "ipython",
    "version": 3
   },
   "file_extension": ".py",
   "mimetype": "text/x-python",
   "name": "python",
   "nbconvert_exporter": "python",
   "pygments_lexer": "ipython3",
   "version": "3.11.2"
  },
  "orig_nbformat": 4
 },
 "nbformat": 4,
 "nbformat_minor": 2
}
